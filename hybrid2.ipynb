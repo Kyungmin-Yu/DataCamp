{
  "nbformat": 4,
  "nbformat_minor": 0,
  "metadata": {
    "colab": {
      "name": "hybrid2",
      "provenance": [],
      "collapsed_sections": []
    },
    "kernelspec": {
      "name": "python3",
      "display_name": "Python 3"
    },
    "accelerator": "GPU"
  },
  "cells": [
    {
      "cell_type": "code",
      "metadata": {
        "id": "3TDYlPq9PkFr",
        "outputId": "7fe23939-2c53-4a88-b68c-4ec3b8ae8451",
        "colab": {
          "base_uri": "https://localhost:8080/",
          "height": 357
        }
      },
      "source": [
        "!pip install catboost"
      ],
      "execution_count": 1,
      "outputs": [
        {
          "output_type": "stream",
          "text": [
            "Collecting catboost\n",
            "\u001b[?25l  Downloading https://files.pythonhosted.org/packages/52/39/128fff65072c8327371e3c594f3c826d29c85b21cb6485980353b168e0e4/catboost-0.24.2-cp36-none-manylinux1_x86_64.whl (66.1MB)\n",
            "\u001b[K     |████████████████████████████████| 66.2MB 44kB/s \n",
            "\u001b[?25hRequirement already satisfied: pandas>=0.24.0 in /usr/local/lib/python3.6/dist-packages (from catboost) (1.1.2)\n",
            "Requirement already satisfied: numpy>=1.16.0 in /usr/local/lib/python3.6/dist-packages (from catboost) (1.18.5)\n",
            "Requirement already satisfied: six in /usr/local/lib/python3.6/dist-packages (from catboost) (1.15.0)\n",
            "Requirement already satisfied: plotly in /usr/local/lib/python3.6/dist-packages (from catboost) (4.4.1)\n",
            "Requirement already satisfied: graphviz in /usr/local/lib/python3.6/dist-packages (from catboost) (0.10.1)\n",
            "Requirement already satisfied: matplotlib in /usr/local/lib/python3.6/dist-packages (from catboost) (3.2.2)\n",
            "Requirement already satisfied: scipy in /usr/local/lib/python3.6/dist-packages (from catboost) (1.4.1)\n",
            "Requirement already satisfied: pytz>=2017.2 in /usr/local/lib/python3.6/dist-packages (from pandas>=0.24.0->catboost) (2018.9)\n",
            "Requirement already satisfied: python-dateutil>=2.7.3 in /usr/local/lib/python3.6/dist-packages (from pandas>=0.24.0->catboost) (2.8.1)\n",
            "Requirement already satisfied: retrying>=1.3.3 in /usr/local/lib/python3.6/dist-packages (from plotly->catboost) (1.3.3)\n",
            "Requirement already satisfied: pyparsing!=2.0.4,!=2.1.2,!=2.1.6,>=2.0.1 in /usr/local/lib/python3.6/dist-packages (from matplotlib->catboost) (2.4.7)\n",
            "Requirement already satisfied: kiwisolver>=1.0.1 in /usr/local/lib/python3.6/dist-packages (from matplotlib->catboost) (1.2.0)\n",
            "Requirement already satisfied: cycler>=0.10 in /usr/local/lib/python3.6/dist-packages (from matplotlib->catboost) (0.10.0)\n",
            "Installing collected packages: catboost\n",
            "Successfully installed catboost-0.24.2\n"
          ],
          "name": "stdout"
        }
      ]
    },
    {
      "cell_type": "code",
      "metadata": {
        "id": "4i8sjyKUN5ms"
      },
      "source": [
        "import numpy as np\n",
        "import pandas as pd"
      ],
      "execution_count": 2,
      "outputs": []
    },
    {
      "cell_type": "code",
      "metadata": {
        "id": "pl_xJ851OTFa"
      },
      "source": [
        "from catboost import CatBoostClassifier\n",
        "cb_model = CatBoostClassifier(\n",
        "    iterations=100, \n",
        "    task_type = 'GPU',\n",
        "    logging_level = 'Silent'\n",
        ")\n",
        "\n",
        "from sklearn.model_selection import KFold\n",
        "kf = KFold(n_splits=3, shuffle=True, random_state=0)"
      ],
      "execution_count": 3,
      "outputs": []
    },
    {
      "cell_type": "code",
      "metadata": {
        "id": "ZsXz_5npO3jA"
      },
      "source": [
        "from sklearn.metrics import accuracy_score\n",
        "from itertools import combinations"
      ],
      "execution_count": 4,
      "outputs": []
    },
    {
      "cell_type": "code",
      "metadata": {
        "id": "ZvPHStalOpOt"
      },
      "source": [
        "def cv_cat(train):\n",
        "  result = []\n",
        "  X = train[train.columns.difference(['y'])]\n",
        "  y = train.loc[:, 'y']\n",
        "  for k, (train_index,test_index) in enumerate(kf.split(data)):\n",
        "    y_train, y_valid = y.iloc[train_index], y.iloc[test_index]\n",
        "    X_train, X_valid = X.iloc[train_index, :], X.iloc[test_index,:]\n",
        "    cat_fit = cb_model.fit(X_train, y_train, cat_features=list(train.select_dtypes(include=['object']).columns))\n",
        "    pred = cat_fit.predict(X_valid)\n",
        "    true = y_valid.to_numpy().flatten()\n",
        "    error = accuracy_score(true, pred)\n",
        "    result.append(error)\n",
        "  return (np.mean(result))"
      ],
      "execution_count": 5,
      "outputs": []
    },
    {
      "cell_type": "code",
      "metadata": {
        "id": "Qux0ZgDAXyGf"
      },
      "source": [
        "from sklearn.datasets import make_classification"
      ],
      "execution_count": 6,
      "outputs": []
    },
    {
      "cell_type": "code",
      "metadata": {
        "id": "nPB_DYO4W2sT"
      },
      "source": [
        "X,y = make_classification(n_samples=1000, n_features=30, n_informative=10,n_redundant=2 ,n_repeated=0, n_classes=2, class_sep=1.0, hypercube=True,scale=1.0, shuffle=False, random_state=None)"
      ],
      "execution_count": 7,
      "outputs": []
    },
    {
      "cell_type": "code",
      "metadata": {
        "id": "tUlAcsRIY9s0"
      },
      "source": [
        "data = pd.DataFrame(X)\n",
        "data.columns = ['x'+str(i) for i in range(data.shape[1])]\n",
        "data['y'] = y"
      ],
      "execution_count": 8,
      "outputs": []
    },
    {
      "cell_type": "code",
      "metadata": {
        "id": "F0ohR5o3PRpz",
        "outputId": "43dcf56a-0b38-4c3f-e4ab-4993cfa36e95",
        "colab": {
          "base_uri": "https://localhost:8080/",
          "height": 568
        }
      },
      "source": [
        "feature_list = list(set(data.columns.tolist())-set('y'))\n",
        "used_feature = []\n",
        "unused_feature = feature_list\n",
        "num_feature = 1\n",
        "direction = \"up\"\n",
        "\n",
        "while num_feature <= data.shape[1]:\n",
        "  if (direction==\"up\"):\n",
        "    var_comb1 = [t+tuple(used_feature) for t in list(combinations(unused_feature, 1))]\n",
        "  else:\n",
        "    var_comb1 = list(combinations(used_features,num_feature-1))\n",
        "  if (num_feature>1):\n",
        "    var_comb2 = list((used_feature,))\n",
        "  else: \n",
        "    var_comb2 = [] \n",
        "  variable_df = pd.DataFrame()\n",
        "  variable_df['variable'] = var_comb1+var_comb2\n",
        "  variable_df['ACC'] = 0\n",
        "\n",
        "  for k in range(variable_df.shape[0]):\n",
        "    using_var = list(variable_df.iloc[k,0]+('y',))\n",
        "    variable_df.iloc[k,1] = cv_cat(data.loc[:, using_var])\n",
        "    print(using_var,k,variable_df.iloc[k,1])\n",
        "\n",
        "  idx = [int(variable_df['ACC'].idxmax()),]\n",
        "  min_variable = variable_df.iloc[idx].iloc[0,0]\n",
        "\n",
        "  if (len(min_variable)==num_feature):\n",
        "    num_feature = num_feature+1\n",
        "    direction = \"up\"\n",
        "  else:\n",
        "    num_feature = num_feature-1\n",
        "    direction = \"down\"\n",
        "  used_feature = min_variable\n",
        "  unused_feature = list(set(feature_list)-set(used_feature))\n",
        "  print(num_feature, used_feature)"
      ],
      "execution_count": null,
      "outputs": [
        {
          "output_type": "stream",
          "text": [
            "['x18', 'y'] 0 0.4939790089490688\n",
            "['x25', 'y'] 1 0.49699100297902693\n",
            "['x13', 'y'] 2 0.5370250490010969\n",
            "['x16', 'y'] 3 0.48201794608980236\n",
            "['x24', 'y'] 4 0.48600996205786623\n",
            "['x9', 'y'] 5 0.5950111788435142\n",
            "['x15', 'y'] 6 0.502004999010987\n",
            "['x7', 'y'] 7 0.5119910329491167\n",
            "['x22', 'y'] 8 0.499991008973045\n",
            "['x5', 'y'] 9 0.687990385595176\n",
            "['x11', 'y'] 10 0.5870061678444912\n",
            "['x10', 'y'] 11 0.534040028052004\n",
            "['x23', 'y'] 12 0.5649871428314541\n",
            "['x26', 'y'] 13 0.4990229750708792\n",
            "['x19', 'y'] 14 0.4849939760119401\n",
            "['x29', 'y'] 15 0.4910179640718562\n",
            "['x12', 'y'] 16 0.4990079900259541\n",
            "['x4', 'y'] 17 0.4880179580778383\n",
            "['x28', 'y'] 18 0.4790029550508592\n",
            "['x3', 'y'] 19 0.5170290050529571\n",
            "['x2', 'y'] 20 0.5579981178783574\n",
            "['x8', 'y'] 21 0.6150042257826689\n",
            "['x0', 'y'] 22 0.7299694904485324\n",
            "['x1', 'y'] 23 0.5580220939502376\n",
            "['x21', 'y'] 24 0.5160729591867317\n",
            "['x6', 'y'] 25 0.47604490718263176\n",
            "['x14', 'y'] 26 0.5169840499181816\n",
            "['x17', 'y'] 27 0.46899893905881934\n",
            "['x20', 'y'] 28 0.5259720798642954\n",
            "['x27', 'y'] 29 0.5120120120120121\n",
            "2 ('x0',)\n"
          ],
          "name": "stdout"
        }
      ]
    },
    {
      "cell_type": "code",
      "metadata": {
        "id": "Z4uGqmYpe0Dz"
      },
      "source": [
        "variable_df"
      ],
      "execution_count": null,
      "outputs": []
    }
  ]
}