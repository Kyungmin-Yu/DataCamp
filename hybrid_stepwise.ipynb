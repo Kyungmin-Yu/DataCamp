{
  "nbformat": 4,
  "nbformat_minor": 0,
  "metadata": {
    "colab": {
      "name": "hybrid_stepwise.ipynb",
      "provenance": [],
      "collapsed_sections": []
    },
    "kernelspec": {
      "name": "python3",
      "display_name": "Python 3"
    },
    "accelerator": "GPU"
  },
  "cells": [
    {
      "cell_type": "code",
      "metadata": {
        "id": "vJzUo1U8WlDA",
        "outputId": "082eab74-da0f-4aa1-bdef-59ef7dfab8fe",
        "colab": {
          "base_uri": "https://localhost:8080/",
          "height": 36
        }
      },
      "source": [
        "from google.colab import drive\n",
        "drive.mount('/content/drive')"
      ],
      "execution_count": 12,
      "outputs": [
        {
          "output_type": "stream",
          "text": [
            "Drive already mounted at /content/drive; to attempt to forcibly remount, call drive.mount(\"/content/drive\", force_remount=True).\n"
          ],
          "name": "stdout"
        }
      ]
    },
    {
      "cell_type": "code",
      "metadata": {
        "id": "7t1OzW9rzvIq"
      },
      "source": [
        "import numpy as np\n",
        "import pandas as pd\n",
        "import os"
      ],
      "execution_count": 13,
      "outputs": []
    },
    {
      "cell_type": "code",
      "metadata": {
        "id": "nSEsuy4BuRjr"
      },
      "source": [
        "os.chdir(\"/content/drive/My Drive/data\")\n",
        "dat = pd.read_csv(\"dat_final1초전.csv\", encoding='CP949')\n",
        "data = dat.iloc[:300,:5]"
      ],
      "execution_count": 14,
      "outputs": []
    },
    {
      "cell_type": "code",
      "metadata": {
        "id": "igfUjnfZ16Rc",
        "outputId": "ae4bc182-8cb9-4f34-fe26-6fff6198e154",
        "colab": {
          "base_uri": "https://localhost:8080/",
          "height": 241
        }
      },
      "source": [
        "data.info()"
      ],
      "execution_count": 15,
      "outputs": [
        {
          "output_type": "stream",
          "text": [
            "<class 'pandas.core.frame.DataFrame'>\n",
            "RangeIndex: 300 entries, 0 to 299\n",
            "Data columns (total 5 columns):\n",
            " #   Column      Non-Null Count  Dtype  \n",
            "---  ------      --------------  -----  \n",
            " 0   y           300 non-null    float64\n",
            " 1   date        300 non-null    object \n",
            " 2   temp        300 non-null    float64\n",
            " 3   rain        300 non-null    float64\n",
            " 4   wind_speed  300 non-null    float64\n",
            "dtypes: float64(4), object(1)\n",
            "memory usage: 11.8+ KB\n"
          ],
          "name": "stdout"
        }
      ]
    },
    {
      "cell_type": "code",
      "metadata": {
        "id": "tRKUvCWJoGtL",
        "outputId": "691f5a16-bde5-4bc0-ec8c-5c8f7d76fa47",
        "colab": {
          "base_uri": "https://localhost:8080/",
          "height": 279
        }
      },
      "source": [
        "! pip install catboost"
      ],
      "execution_count": 16,
      "outputs": [
        {
          "output_type": "stream",
          "text": [
            "Requirement already satisfied: catboost in /usr/local/lib/python3.6/dist-packages (0.24.2)\n",
            "Requirement already satisfied: graphviz in /usr/local/lib/python3.6/dist-packages (from catboost) (0.10.1)\n",
            "Requirement already satisfied: six in /usr/local/lib/python3.6/dist-packages (from catboost) (1.15.0)\n",
            "Requirement already satisfied: numpy>=1.16.0 in /usr/local/lib/python3.6/dist-packages (from catboost) (1.18.5)\n",
            "Requirement already satisfied: scipy in /usr/local/lib/python3.6/dist-packages (from catboost) (1.4.1)\n",
            "Requirement already satisfied: pandas>=0.24.0 in /usr/local/lib/python3.6/dist-packages (from catboost) (1.1.2)\n",
            "Requirement already satisfied: plotly in /usr/local/lib/python3.6/dist-packages (from catboost) (4.4.1)\n",
            "Requirement already satisfied: matplotlib in /usr/local/lib/python3.6/dist-packages (from catboost) (3.2.2)\n",
            "Requirement already satisfied: pytz>=2017.2 in /usr/local/lib/python3.6/dist-packages (from pandas>=0.24.0->catboost) (2018.9)\n",
            "Requirement already satisfied: python-dateutil>=2.7.3 in /usr/local/lib/python3.6/dist-packages (from pandas>=0.24.0->catboost) (2.8.1)\n",
            "Requirement already satisfied: retrying>=1.3.3 in /usr/local/lib/python3.6/dist-packages (from plotly->catboost) (1.3.3)\n",
            "Requirement already satisfied: kiwisolver>=1.0.1 in /usr/local/lib/python3.6/dist-packages (from matplotlib->catboost) (1.2.0)\n",
            "Requirement already satisfied: cycler>=0.10 in /usr/local/lib/python3.6/dist-packages (from matplotlib->catboost) (0.10.0)\n",
            "Requirement already satisfied: pyparsing!=2.0.4,!=2.1.2,!=2.1.6,>=2.0.1 in /usr/local/lib/python3.6/dist-packages (from matplotlib->catboost) (2.4.7)\n"
          ],
          "name": "stdout"
        }
      ]
    },
    {
      "cell_type": "code",
      "metadata": {
        "id": "OxkB464sEgBs"
      },
      "source": [
        "from catboost import CatBoostRegressor\n",
        "cb_model = CatBoostRegressor(iterations=1000,\n",
        "                          loss_function='RMSE',\n",
        "                          eval_metric='RMSE'\n",
        "                          ,task_type=\"GPU\"\n",
        "                          ,logging_level = 'Silent'\n",
        ")"
      ],
      "execution_count": 17,
      "outputs": []
    },
    {
      "cell_type": "code",
      "metadata": {
        "id": "FD_fjmW8bKis"
      },
      "source": [
        "from sklearn.model_selection import KFold\n",
        "kf = KFold(n_splits=5, shuffle=True, random_state=0)"
      ],
      "execution_count": 18,
      "outputs": []
    },
    {
      "cell_type": "code",
      "metadata": {
        "id": "F2LlMouM5Ein"
      },
      "source": [
        "def rmse(true, pred):\n",
        "    return np.sqrt(((pred - true) ** 2).mean())"
      ],
      "execution_count": 19,
      "outputs": []
    },
    {
      "cell_type": "code",
      "metadata": {
        "id": "it1M_1ji-04A"
      },
      "source": [
        "def cv_cat(train):\n",
        "  result = []\n",
        "  X = train[train.columns.difference(['y'])]\n",
        "  y = train.loc[:, 'y']\n",
        "  for k, (train_index,test_index) in enumerate(kf.split(data)):\n",
        "    y_train, y_valid = y.iloc[train_index], y.iloc[test_index]\n",
        "    X_train, X_valid = X.iloc[train_index, :], X.iloc[test_index,:]\n",
        "    cat_fit = cb_model.fit(X_train, y_train, cat_features=list(train.select_dtypes(include=['object', 'int64']).columns))\n",
        "    pred = cat_fit.predict(X_valid)\n",
        "    true = y_valid.to_numpy().flatten()\n",
        "    error = rmse(true, pred)\n",
        "    result.append(error)\n",
        "  return (np.mean(result)) \n"
      ],
      "execution_count": 20,
      "outputs": []
    },
    {
      "cell_type": "code",
      "metadata": {
        "id": "40OUaNOGURqT"
      },
      "source": [
        "from itertools import combinations"
      ],
      "execution_count": 21,
      "outputs": []
    },
    {
      "cell_type": "code",
      "metadata": {
        "id": "cfUPw6-X4TS-",
        "outputId": "7decaf3c-ca69-4847-94cb-e7bf9350dabf",
        "colab": {
          "base_uri": "https://localhost:8080/",
          "height": 73
        }
      },
      "source": [
        "feature_list = list(set(data.columns.tolist())-set('y'))\n",
        "used_feature = []\n",
        "unused_feature = feature_list\n",
        "num_feature = 1\n",
        "\n",
        "while num_feature =< data.shape[1]:\n",
        "  variable_df = pd.DataFrame()\n",
        "  if (num_feature>2):\n",
        "    var_comb1 = list(combinations(used_feature,num_feature-2))\n",
        "  else: \n",
        "    var_comb1 = []\n",
        "  if (num_feature>1):\n",
        "    var_comb2 = list((used_feature,))\n",
        "  else: \n",
        "    var_comb2 = [] \n",
        "  var_comb3 = [t+tuple(used_feature) for t in list(combinations(unused_feature, 1))]\n",
        "\n",
        "  variable_df['variable'] = var_comb1 + var_comb2+ var_comb3\n",
        "  variable_df['rmse'] = 0\n",
        "\n",
        "  for k in range(variable_df.shape[0]):\n",
        "    using_var = list(variable_df.iloc[k,0]+('y',))\n",
        "    variable_df.iloc[k,1] = cv_cat(data.loc[:, using_var])\n",
        "  \n",
        "  idx = [int(variable_df['rmse'].idxmin()),]\n",
        "  min_variable = variable_df.iloc[idx].iloc[0,0]\n",
        "  if (len(min_variable)==num_feature-1):\n",
        "    print('best variable:', min_variable)\n",
        "    break\n",
        "  else:\n",
        "    num_feature = len(min_variable)+1\n",
        "    used_feature = min_variable\n",
        "    unused_feature = list(set(feature_list)-set(used_feature))\n",
        "    print(num_feature, used_feature)"
      ],
      "execution_count": 55,
      "outputs": [
        {
          "output_type": "stream",
          "text": [
            "2\n",
            "3\n",
            "best variable: ('date', 'temp')\n"
          ],
          "name": "stdout"
        }
      ]
    },
    {
      "cell_type": "code",
      "metadata": {
        "id": "pijP5OcSH9eU",
        "outputId": "c1e76d23-5d2a-4a28-fcf8-df93bcb09df8",
        "colab": {
          "base_uri": "https://localhost:8080/",
          "height": 202
        }
      },
      "source": [
        "variable_df"
      ],
      "execution_count": 56,
      "outputs": [
        {
          "output_type": "execute_result",
          "data": {
            "text/html": [
              "<div>\n",
              "<style scoped>\n",
              "    .dataframe tbody tr th:only-of-type {\n",
              "        vertical-align: middle;\n",
              "    }\n",
              "\n",
              "    .dataframe tbody tr th {\n",
              "        vertical-align: top;\n",
              "    }\n",
              "\n",
              "    .dataframe thead th {\n",
              "        text-align: right;\n",
              "    }\n",
              "</style>\n",
              "<table border=\"1\" class=\"dataframe\">\n",
              "  <thead>\n",
              "    <tr style=\"text-align: right;\">\n",
              "      <th></th>\n",
              "      <th>variable</th>\n",
              "      <th>rmse</th>\n",
              "    </tr>\n",
              "  </thead>\n",
              "  <tbody>\n",
              "    <tr>\n",
              "      <th>0</th>\n",
              "      <td>(date,)</td>\n",
              "      <td>26.710858</td>\n",
              "    </tr>\n",
              "    <tr>\n",
              "      <th>1</th>\n",
              "      <td>(temp,)</td>\n",
              "      <td>25.455858</td>\n",
              "    </tr>\n",
              "    <tr>\n",
              "      <th>2</th>\n",
              "      <td>(date, temp)</td>\n",
              "      <td>24.031207</td>\n",
              "    </tr>\n",
              "    <tr>\n",
              "      <th>3</th>\n",
              "      <td>(wind_speed, date, temp)</td>\n",
              "      <td>24.122238</td>\n",
              "    </tr>\n",
              "    <tr>\n",
              "      <th>4</th>\n",
              "      <td>(rain, date, temp)</td>\n",
              "      <td>24.135632</td>\n",
              "    </tr>\n",
              "  </tbody>\n",
              "</table>\n",
              "</div>"
            ],
            "text/plain": [
              "                   variable       rmse\n",
              "0                   (date,)  26.710858\n",
              "1                   (temp,)  25.455858\n",
              "2              (date, temp)  24.031207\n",
              "3  (wind_speed, date, temp)  24.122238\n",
              "4        (rain, date, temp)  24.135632"
            ]
          },
          "metadata": {
            "tags": []
          },
          "execution_count": 56
        }
      ]
    }
  ]
}